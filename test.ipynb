{
 "cells": [
  {
   "cell_type": "code",
   "execution_count": 2,
   "metadata": {
    "collapsed": true,
    "pycharm": {
     "is_executing": false
    }
   },
   "outputs": [],
   "source": [
    "import pickle\n",
    "import numpy as np\n",
    "from fmri_utils import get_functional_connectivity, slide_window_of_time_series\n",
    "from fmri_utils import split_time_series, get_window_time_series, mat2vec\n"
   ]
  },
  {
   "cell_type": "code",
   "execution_count": 3,
   "outputs": [
    {
     "name": "stdout",
     "text": [
      "number of subjects:  12\nnumber of ROIs:  116\n"
     ],
     "output_type": "stream"
    }
   ],
   "source": [
    "test_data = pickle.load(open('test_data.pkl', 'rb'))\n",
    "print('number of subjects: ', len(test_data))\n",
    "print('number of ROIs: ', test_data[0].shape[1])"
   ],
   "metadata": {
    "collapsed": false,
    "pycharm": {
     "name": "#%%\n",
     "is_executing": false
    }
   }
  },
  {
   "cell_type": "code",
   "execution_count": 4,
   "outputs": [
    {
     "name": "stdout",
     "text": [
      "(12, 116, 116)\n"
     ],
     "output_type": "stream"
    }
   ],
   "source": [
    "# get functional connectivity\n",
    "fc = get_functional_connectivity(test_data)\n",
    "print(fc.shape)\n"
   ],
   "metadata": {
    "collapsed": false,
    "pycharm": {
     "name": "#%%\n",
     "is_executing": false
    }
   }
  },
  {
   "cell_type": "code",
   "execution_count": 5,
   "outputs": [
    {
     "name": "stdout",
     "text": [
      "(236, 116)\n(118, 116)\n"
     ],
     "output_type": "stream"
    }
   ],
   "source": [
    "# get window signal\n",
    "test_signal = test_data[0]\n",
    "print(test_signal.shape)\n",
    "window_signal = get_window_time_series(test_signal, window_size=0.5, start=None)\n",
    "print(window_signal.shape)\n"
   ],
   "metadata": {
    "collapsed": false,
    "pycharm": {
     "name": "#%%\n",
     "is_executing": false
    }
   }
  },
  {
   "cell_type": "code",
   "execution_count": 6,
   "outputs": [
    {
     "name": "stdout",
     "text": [
      "47\n(47, 116)\n(6, 116)\n"
     ],
     "output_type": "stream"
    }
   ],
   "source": [
    "# get slide window signals\n",
    "slide_window_signals = slide_window_of_time_series(test_signal, window_size=0.2, step=5)\n",
    "print(len(slide_window_signals))\n",
    "print(slide_window_signals[0].shape)\n",
    "print(slide_window_signals[-1].shape)\n"
   ],
   "metadata": {
    "collapsed": false,
    "pycharm": {
     "name": "#%%\n",
     "is_executing": false
    }
   }
  },
  {
   "cell_type": "code",
   "execution_count": 8,
   "outputs": [
    {
     "name": "stdout",
     "text": [
      "4\n(59, 116)\n(59, 116)\n"
     ],
     "output_type": "stream"
    }
   ],
   "source": [
    "# get split signals\n",
    "split_signals = split_time_series(test_signal, k=4)\n",
    "print(len(split_signals))\n",
    "print(split_signals[0].shape)\n",
    "print(split_signals[-1].shape)\n"
   ],
   "metadata": {
    "collapsed": false,
    "pycharm": {
     "name": "#%%\n",
     "is_executing": false
    }
   }
  },
  {
   "cell_type": "code",
   "execution_count": 9,
   "outputs": [
    {
     "name": "stdout",
     "text": [
      "(12, 6670)\n"
     ],
     "output_type": "stream"
    }
   ],
   "source": [
    "# get upper-triangle vector\n",
    "vec = mat2vec(fc)\n",
    "print(vec.shape)\n"
   ],
   "metadata": {
    "collapsed": false,
    "pycharm": {
     "name": "#%%\n",
     "is_executing": false
    }
   }
  }
 ],
 "metadata": {
  "language_info": {
   "codemirror_mode": {
    "name": "ipython",
    "version": 2
   },
   "file_extension": ".py",
   "mimetype": "text/x-python",
   "name": "python",
   "nbconvert_exporter": "python",
   "pygments_lexer": "ipython2",
   "version": "2.7.6"
  },
  "kernelspec": {
   "name": "python3",
   "language": "python",
   "display_name": "Python 3"
  },
  "pycharm": {
   "stem_cell": {
    "cell_type": "raw",
    "source": [],
    "metadata": {
     "collapsed": false
    }
   }
  }
 },
 "nbformat": 4,
 "nbformat_minor": 0
}